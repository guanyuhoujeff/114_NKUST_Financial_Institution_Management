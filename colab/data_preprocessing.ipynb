{
 "cells": [
  {
   "cell_type": "code",
   "execution_count": null,
   "id": "a780ba9f-babf-464f-868b-796a272a1563",
   "metadata": {},
   "outputs": [],
   "source": [
    "!git clone https://github.com/guanyuhoujeff/114_NKUST_Financial_Institution_Management.git"
   ]
  },
  {
   "cell_type": "code",
   "execution_count": null,
   "id": "57230d9a-450a-4d0e-9053-f985532e2f92",
   "metadata": {},
   "outputs": [],
   "source": [
    "cd /content/114_NKUST_Financial_Institution_Management/colab"
   ]
  },
  {
   "cell_type": "code",
   "execution_count": 1,
   "id": "d5cccf4e-e6a0-44f8-8d76-b641ede23bc9",
   "metadata": {},
   "outputs": [],
   "source": [
    "import pandas as pd\n",
    "import tqdm \n",
    "import os\n",
    "import glob"
   ]
  },
  {
   "cell_type": "markdown",
   "id": "856cc2dd-a74e-4588-8e6b-0bfe7f831b94",
   "metadata": {},
   "source": [
    "# 現貨"
   ]
  },
  {
   "cell_type": "code",
   "execution_count": 2,
   "id": "83fd6e6d-bfe7-42f9-a460-b034d396d051",
   "metadata": {},
   "outputs": [],
   "source": [
    "full_spot = pd.read_csv('../data/full-spot.txt', encoding='cp950', delimiter='\\t')\n",
    "full_spot = full_spot.rename(columns={\n",
    "    \"證券代碼\": \"code\",\n",
    "    \"簡稱\" : \"name\",\t\n",
    "    \"年月日\" : \"date\",\n",
    "    \"收盤價(元)\" : \"close_price\",\n",
    "    # \"報酬率％\" : \"spot_return\",\t\n",
    "    \"報酬率-Ln\" : \"spot_return\"\n",
    "})\n",
    "full_spot['date'] = full_spot['date'].astype(int)\n",
    "full_spot['spot_return'] = full_spot['spot_return'].astype(float)\n",
    "full_spot['code'] = full_spot['code'].astype(str)"
   ]
  },
  {
   "cell_type": "markdown",
   "id": "2833becd-039e-4dad-bc7d-3e9f9dfb224d",
   "metadata": {},
   "source": [
    "# 期貨"
   ]
  },
  {
   "cell_type": "code",
   "execution_count": 4,
   "id": "5cfcbee9-6fc9-42e0-b898-f259c38c7749",
   "metadata": {},
   "outputs": [],
   "source": [
    "full_futures = pd.read_csv('../data/full-futures.txt', encoding='cp950', delimiter='\\t')\n",
    "\n",
    "nearby_full_futures_list = []\n",
    "for date, group in full_futures.groupby(\"日期\"):\n",
    "    nearby_group = group[group[\"剩餘天數\"] >  3]\n",
    "    nearby_full_futures_list += nearby_group.sort_values([\"剩餘天數\"]).drop_duplicates(\"標的證券\").to_dict(\"records\")\n",
    "\n",
    "nearby_full_futures_table = pd.DataFrame(nearby_full_futures_list)[['期貨名稱', '簡稱', '日期', '到期月', '報酬率', \"標的證券\"]]\n",
    "nearby_full_futures_table = nearby_full_futures_table.rename(columns= {\n",
    "    \"簡稱\": 'name',\n",
    "    \"日期\": \"date\",\n",
    "    \"報酬率\": \"futures_return\"\n",
    "})\n",
    "nearby_full_futures_table['code'] = nearby_full_futures_table[\"標的證券\"].apply(lambda x: x.split()[0])\n",
    "nearby_full_futures_table['date'] = nearby_full_futures_table['date'].astype(int)\n",
    "nearby_full_futures_table['futures_return'] = nearby_full_futures_table['futures_return'].astype(float)"
   ]
  },
  {
   "cell_type": "markdown",
   "id": "a74e82a3-15e0-4f04-9427-e0cdf8cbdaa5",
   "metadata": {},
   "source": [
    "# SVI"
   ]
  },
  {
   "cell_type": "code",
   "execution_count": 5,
   "id": "955ca6db-014b-43f2-ba88-5c06f2e9d112",
   "metadata": {},
   "outputs": [],
   "source": [
    "svi_2542_table = pd.DataFrame()\n",
    "for file in glob.glob(\"../data/SVI/興富發/*.csv\"):\n",
    "    df = pd.read_csv(file, header=1)\n",
    "    svi_2542_table = pd.concat((svi_2542_table, df))\n",
    "svi_2542_table = svi_2542_table.sort_values(\"天\")\n",
    "svi_2542_table.columns = ['date', \"SVI\"]\n",
    "svi_2542_table[\"date\"] = svi_2542_table[\"date\"].apply(lambda x: int(x.replace(\"-\", \"\")))\n",
    "svi_2542_table[\"SVI\"] = svi_2542_table[\"SVI\"].astype(int)"
   ]
  },
  {
   "cell_type": "code",
   "execution_count": 6,
   "id": "8f927fb9-6f5d-4c7f-acc3-ca517a6e6c7f",
   "metadata": {},
   "outputs": [],
   "source": [
    "svi_2515_table = pd.DataFrame()\n",
    "for file in glob.glob(\"../data/SVI/中工/*.csv\"):\n",
    "    df = pd.read_csv(file, header=1)\n",
    "    svi_2515_table = pd.concat((svi_2515_table, df))\n",
    "svi_2515_table = svi_2515_table.sort_values(\"天\")\n",
    "svi_2515_table.columns = ['date', \"SVI\"]\n",
    "svi_2515_table[\"date\"] = svi_2515_table[\"date\"].apply(lambda x: int(x.replace(\"-\", \"\")))\n",
    "svi_2515_table[\"SVI\"] = svi_2515_table[\"SVI\"].astype(int)"
   ]
  },
  {
   "cell_type": "markdown",
   "id": "c2c3d53e-65c9-40e4-8cd7-1df2a21b2763",
   "metadata": {},
   "source": [
    "# 合併現貨-期貨-SVI"
   ]
  },
  {
   "cell_type": "code",
   "execution_count": 7,
   "id": "813ef15d-205f-4850-8d1f-4e2d09c2af49",
   "metadata": {},
   "outputs": [],
   "source": [
    "full_spot_futures = full_spot[['code', 'date', 'spot_return']].merge(nearby_full_futures_table[['code', 'date', 'futures_return']], on=['code', 'date'])\n",
    "full_spot_futures = full_spot_futures[(full_spot_futures['date'] >= 20171003) & (full_spot_futures['date'] <= 20180614)]"
   ]
  },
  {
   "cell_type": "code",
   "execution_count": 8,
   "id": "51364d43-9bdc-4ec3-bca7-3fce3c983e77",
   "metadata": {
    "scrolled": true
   },
   "outputs": [
    {
     "name": "stdout",
     "output_type": "stream",
     "text": [
      "存儲 excel 檔案： reserch_table_2515.xlsx\n",
      "存儲 excel 檔案： reserch_table_2542.xlsx\n"
     ]
    }
   ],
   "source": [
    "#  SVI 虛擬變數 跟 交乘項\n",
    "for code, svi_table in zip([\"2515\", \"2542\"], [svi_2515_table, svi_2542_table]):\n",
    "    reserch_table = full_spot_futures[full_spot_futures[\"code\"] == code].merge(svi_table, on='date').drop_duplicates(\"date\")\n",
    "    reserch_table[\"SVI_D1\"] = (reserch_table[\"SVI\"].quantile(0.25) > reserch_table[\"SVI\"]).astype(int)\n",
    "    reserch_table[\"SVI_D2\"] = (reserch_table[\"SVI\"].quantile(0.5) < reserch_table[\"SVI\"]).astype(int)\n",
    "    reserch_table[\"SVI_D3\"] = (reserch_table[\"SVI\"].quantile(0.75) < reserch_table[\"SVI\"]).astype(int)\n",
    "    # 交乘項\n",
    "    reserch_table[\"d1_sr\"] = reserch_table[\"SVI_D1\"]  *  reserch_table[\"spot_return\"] \n",
    "    reserch_table[\"d2_sr\"] = reserch_table[\"SVI_D2\"]  *  reserch_table[\"spot_return\"] \n",
    "    reserch_table[\"d3_sr\"] = reserch_table[\"SVI_D3\"]  *  reserch_table[\"spot_return\"] \n",
    "\n",
    "    reserch_table[\"d1_fr\"] = reserch_table[\"SVI_D1\"]  *  reserch_table[\"futures_return\"] \n",
    "    reserch_table[\"d2_fr\"] = reserch_table[\"SVI_D2\"]  *  reserch_table[\"futures_return\"] \n",
    "    reserch_table[\"d3_fr\"] = reserch_table[\"SVI_D3\"]  *  reserch_table[\"futures_return\"] \n",
    "\n",
    "    # 匯出 excel\n",
    "    reserch_table.to_excel(f\"reserch_table_{code}.xlsx\", index=False)\n",
    "    print(f\"存儲 excel 檔案： reserch_table_{code}.xlsx\")"
   ]
  },
  {
   "cell_type": "code",
   "execution_count": null,
   "id": "bd61efb0-78fd-4e35-8059-cba0e7c8830e",
   "metadata": {},
   "outputs": [],
   "source": []
  },
  {
   "cell_type": "code",
   "execution_count": null,
   "id": "eb4de046-fe5b-482e-b28e-cd66ccb46e82",
   "metadata": {},
   "outputs": [],
   "source": []
  }
 ],
 "metadata": {
  "kernelspec": {
   "display_name": "Python 3 (ipykernel)",
   "language": "python",
   "name": "python3"
  },
  "language_info": {
   "codemirror_mode": {
    "name": "ipython",
    "version": 3
   },
   "file_extension": ".py",
   "mimetype": "text/x-python",
   "name": "python",
   "nbconvert_exporter": "python",
   "pygments_lexer": "ipython3",
   "version": "3.10.17"
  }
 },
 "nbformat": 4,
 "nbformat_minor": 5
}
