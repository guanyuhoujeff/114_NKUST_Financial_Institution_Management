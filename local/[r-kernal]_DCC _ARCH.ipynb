{
 "cells": [
  {
   "cell_type": "markdown",
   "id": "9ee531a0-389c-4069-a0d9-288ab48b336d",
   "metadata": {},
   "source": [
    "# 安裝套件"
   ]
  },
  {
   "cell_type": "code",
   "execution_count": 4,
   "id": "c4fdeb0c-d9ba-4984-a47f-57844efde8a5",
   "metadata": {},
   "outputs": [
    {
     "name": "stderr",
     "output_type": "stream",
     "text": [
      "also installing the dependencies 'FNN', 'kernlab', 'mclust', 'multicool', 'pracma', 'ks', 'chron', 'fracdiff', 'nloptr', 'truncnorm', 'mvtnorm', 'rugarch', 'Rsolnp', 'ff', 'pcaPP', 'corpcor', 'RcppArmadillo'\n",
      "\n",
      "\n"
     ]
    },
    {
     "name": "stdout",
     "output_type": "stream",
     "text": [
      "package 'FNN' successfully unpacked and MD5 sums checked\n",
      "package 'kernlab' successfully unpacked and MD5 sums checked\n",
      "package 'mclust' successfully unpacked and MD5 sums checked\n",
      "package 'multicool' successfully unpacked and MD5 sums checked\n",
      "package 'pracma' successfully unpacked and MD5 sums checked\n",
      "package 'ks' successfully unpacked and MD5 sums checked\n",
      "package 'chron' successfully unpacked and MD5 sums checked\n",
      "package 'fracdiff' successfully unpacked and MD5 sums checked\n",
      "package 'nloptr' successfully unpacked and MD5 sums checked\n",
      "package 'truncnorm' successfully unpacked and MD5 sums checked\n",
      "package 'mvtnorm' successfully unpacked and MD5 sums checked\n",
      "package 'rugarch' successfully unpacked and MD5 sums checked\n",
      "package 'Rsolnp' successfully unpacked and MD5 sums checked\n",
      "package 'ff' successfully unpacked and MD5 sums checked\n",
      "package 'pcaPP' successfully unpacked and MD5 sums checked\n",
      "package 'corpcor' successfully unpacked and MD5 sums checked\n",
      "package 'RcppArmadillo' successfully unpacked and MD5 sums checked\n",
      "package 'rmgarch' successfully unpacked and MD5 sums checked\n",
      "\n",
      "The downloaded binary packages are in\n",
      "\tC:\\Users\\jeffg\\AppData\\Local\\Temp\\RtmpYlGNkX\\downloaded_packages\n"
     ]
    }
   ],
   "source": [
    "# install.packages(\"readxl\")\n",
    "# install.packages(\"xts\") # For time series data handling\n",
    "# install.packages(\"gmp\")\n",
    "# install.packages(\"rmgarch\")"
   ]
  },
  {
   "cell_type": "markdown",
   "id": "caed51ad-ed1c-47d0-9de0-39fea73930e6",
   "metadata": {},
   "source": [
    "# --- 1. 安裝和載入必要的套件 ---"
   ]
  },
  {
   "cell_type": "code",
   "execution_count": 2,
   "id": "f961f958-36ab-41fe-9357-4aa4e088e0bf",
   "metadata": {
    "scrolled": true
   },
   "outputs": [
    {
     "name": "stderr",
     "output_type": "stream",
     "text": [
      "Loading required package: rugarch\n",
      "\n",
      "Loading required package: parallel\n",
      "\n",
      "\n",
      "Attaching package: 'rugarch'\n",
      "\n",
      "\n",
      "The following object is masked from 'package:stats':\n",
      "\n",
      "    sigma\n",
      "\n",
      "\n",
      "Loading required package: zoo\n",
      "\n",
      "\n",
      "Attaching package: 'zoo'\n",
      "\n",
      "\n",
      "The following objects are masked from 'package:base':\n",
      "\n",
      "    as.Date, as.Date.numeric\n",
      "\n",
      "\n",
      "\n",
      "Attaching package: 'xts'\n",
      "\n",
      "\n",
      "The following objects are masked from 'package:rmgarch':\n",
      "\n",
      "    first, last\n",
      "\n",
      "\n"
     ]
    }
   ],
   "source": [
    "library(rmgarch)\n",
    "library(xts)\n",
    "library(readxl)"
   ]
  },
  {
   "cell_type": "code",
   "execution_count": 3,
   "id": "0f0f81df-d8e6-4609-9014-e330f079b243",
   "metadata": {},
   "outputs": [],
   "source": [
    "# 讀取 Excel（預設讀取第一個工作表）\n",
    "reserch_table <- read_excel(\"reserch_table_2515.xlsx\")"
   ]
  },
  {
   "cell_type": "code",
   "execution_count": 4,
   "id": "bc27ce2f-09d1-4c15-a72c-8f71cd35af5b",
   "metadata": {},
   "outputs": [
    {
     "data": {
      "text/html": [
       "<table class=\"dataframe\">\n",
       "<caption>A tibble: 6 × 14</caption>\n",
       "<thead>\n",
       "\t<tr><th scope=col>code</th><th scope=col>date</th><th scope=col>spot_return</th><th scope=col>futures_return</th><th scope=col>SVI</th><th scope=col>SVI_D1</th><th scope=col>SVI_D2</th><th scope=col>SVI_D3</th><th scope=col>d1_sr</th><th scope=col>d2_sr</th><th scope=col>d3_sr</th><th scope=col>d1_fr</th><th scope=col>d2_fr</th><th scope=col>d3_fr</th></tr>\n",
       "\t<tr><th scope=col>&lt;chr&gt;</th><th scope=col>&lt;dbl&gt;</th><th scope=col>&lt;dbl&gt;</th><th scope=col>&lt;dbl&gt;</th><th scope=col>&lt;dbl&gt;</th><th scope=col>&lt;dbl&gt;</th><th scope=col>&lt;dbl&gt;</th><th scope=col>&lt;dbl&gt;</th><th scope=col>&lt;dbl&gt;</th><th scope=col>&lt;dbl&gt;</th><th scope=col>&lt;dbl&gt;</th><th scope=col>&lt;dbl&gt;</th><th scope=col>&lt;dbl&gt;</th><th scope=col>&lt;dbl&gt;</th></tr>\n",
       "</thead>\n",
       "<tbody>\n",
       "\t<tr><td>2515</td><td>20171003</td><td> 2.6356</td><td> 2.5223</td><td>37</td><td>1</td><td>0</td><td>0</td><td>2.6356</td><td> 0.000</td><td>0</td><td>2.5223</td><td> 0.0000</td><td>0</td></tr>\n",
       "\t<tr><td>2515</td><td>20171005</td><td> 5.7560</td><td> 6.0781</td><td>64</td><td>0</td><td>1</td><td>0</td><td>0.0000</td><td> 5.756</td><td>0</td><td>0.0000</td><td> 6.0781</td><td>0</td></tr>\n",
       "\t<tr><td>2515</td><td>20171006</td><td>-2.0676</td><td>-2.5921</td><td>55</td><td>0</td><td>0</td><td>0</td><td>0.0000</td><td> 0.000</td><td>0</td><td>0.0000</td><td> 0.0000</td><td>0</td></tr>\n",
       "\t<tr><td>2515</td><td>20171011</td><td>-3.1120</td><td>-2.1008</td><td>58</td><td>0</td><td>1</td><td>0</td><td>0.0000</td><td>-3.112</td><td>0</td><td>0.0000</td><td>-2.1008</td><td>0</td></tr>\n",
       "\t<tr><td>2515</td><td>20171012</td><td>-0.8658</td><td>-1.1445</td><td>47</td><td>0</td><td>0</td><td>0</td><td>0.0000</td><td> 0.000</td><td>0</td><td>0.0000</td><td> 0.0000</td><td>0</td></tr>\n",
       "\t<tr><td>2515</td><td>20171013</td><td> 0.5780</td><td>-0.2894</td><td>45</td><td>0</td><td>0</td><td>0</td><td>0.0000</td><td> 0.000</td><td>0</td><td>0.0000</td><td> 0.0000</td><td>0</td></tr>\n",
       "</tbody>\n",
       "</table>\n"
      ],
      "text/latex": [
       "A tibble: 6 × 14\n",
       "\\begin{tabular}{llllllllllllll}\n",
       " code & date & spot\\_return & futures\\_return & SVI & SVI\\_D1 & SVI\\_D2 & SVI\\_D3 & d1\\_sr & d2\\_sr & d3\\_sr & d1\\_fr & d2\\_fr & d3\\_fr\\\\\n",
       " <chr> & <dbl> & <dbl> & <dbl> & <dbl> & <dbl> & <dbl> & <dbl> & <dbl> & <dbl> & <dbl> & <dbl> & <dbl> & <dbl>\\\\\n",
       "\\hline\n",
       "\t 2515 & 20171003 &  2.6356 &  2.5223 & 37 & 1 & 0 & 0 & 2.6356 &  0.000 & 0 & 2.5223 &  0.0000 & 0\\\\\n",
       "\t 2515 & 20171005 &  5.7560 &  6.0781 & 64 & 0 & 1 & 0 & 0.0000 &  5.756 & 0 & 0.0000 &  6.0781 & 0\\\\\n",
       "\t 2515 & 20171006 & -2.0676 & -2.5921 & 55 & 0 & 0 & 0 & 0.0000 &  0.000 & 0 & 0.0000 &  0.0000 & 0\\\\\n",
       "\t 2515 & 20171011 & -3.1120 & -2.1008 & 58 & 0 & 1 & 0 & 0.0000 & -3.112 & 0 & 0.0000 & -2.1008 & 0\\\\\n",
       "\t 2515 & 20171012 & -0.8658 & -1.1445 & 47 & 0 & 0 & 0 & 0.0000 &  0.000 & 0 & 0.0000 &  0.0000 & 0\\\\\n",
       "\t 2515 & 20171013 &  0.5780 & -0.2894 & 45 & 0 & 0 & 0 & 0.0000 &  0.000 & 0 & 0.0000 &  0.0000 & 0\\\\\n",
       "\\end{tabular}\n"
      ],
      "text/markdown": [
       "\n",
       "A tibble: 6 × 14\n",
       "\n",
       "| code &lt;chr&gt; | date &lt;dbl&gt; | spot_return &lt;dbl&gt; | futures_return &lt;dbl&gt; | SVI &lt;dbl&gt; | SVI_D1 &lt;dbl&gt; | SVI_D2 &lt;dbl&gt; | SVI_D3 &lt;dbl&gt; | d1_sr &lt;dbl&gt; | d2_sr &lt;dbl&gt; | d3_sr &lt;dbl&gt; | d1_fr &lt;dbl&gt; | d2_fr &lt;dbl&gt; | d3_fr &lt;dbl&gt; |\n",
       "|---|---|---|---|---|---|---|---|---|---|---|---|---|---|\n",
       "| 2515 | 20171003 |  2.6356 |  2.5223 | 37 | 1 | 0 | 0 | 2.6356 |  0.000 | 0 | 2.5223 |  0.0000 | 0 |\n",
       "| 2515 | 20171005 |  5.7560 |  6.0781 | 64 | 0 | 1 | 0 | 0.0000 |  5.756 | 0 | 0.0000 |  6.0781 | 0 |\n",
       "| 2515 | 20171006 | -2.0676 | -2.5921 | 55 | 0 | 0 | 0 | 0.0000 |  0.000 | 0 | 0.0000 |  0.0000 | 0 |\n",
       "| 2515 | 20171011 | -3.1120 | -2.1008 | 58 | 0 | 1 | 0 | 0.0000 | -3.112 | 0 | 0.0000 | -2.1008 | 0 |\n",
       "| 2515 | 20171012 | -0.8658 | -1.1445 | 47 | 0 | 0 | 0 | 0.0000 |  0.000 | 0 | 0.0000 |  0.0000 | 0 |\n",
       "| 2515 | 20171013 |  0.5780 | -0.2894 | 45 | 0 | 0 | 0 | 0.0000 |  0.000 | 0 | 0.0000 |  0.0000 | 0 |\n",
       "\n"
      ],
      "text/plain": [
       "  code date     spot_return futures_return SVI SVI_D1 SVI_D2 SVI_D3 d1_sr \n",
       "1 2515 20171003  2.6356      2.5223        37  1      0      0      2.6356\n",
       "2 2515 20171005  5.7560      6.0781        64  0      1      0      0.0000\n",
       "3 2515 20171006 -2.0676     -2.5921        55  0      0      0      0.0000\n",
       "4 2515 20171011 -3.1120     -2.1008        58  0      1      0      0.0000\n",
       "5 2515 20171012 -0.8658     -1.1445        47  0      0      0      0.0000\n",
       "6 2515 20171013  0.5780     -0.2894        45  0      0      0      0.0000\n",
       "  d2_sr  d3_sr d1_fr  d2_fr   d3_fr\n",
       "1  0.000 0     2.5223  0.0000 0    \n",
       "2  5.756 0     0.0000  6.0781 0    \n",
       "3  0.000 0     0.0000  0.0000 0    \n",
       "4 -3.112 0     0.0000 -2.1008 0    \n",
       "5  0.000 0     0.0000  0.0000 0    \n",
       "6  0.000 0     0.0000  0.0000 0    "
      ]
     },
     "metadata": {},
     "output_type": "display_data"
    }
   ],
   "source": [
    "head(reserch_table)         # 顯示前 6 筆資料"
   ]
  },
  {
   "cell_type": "code",
   "execution_count": 5,
   "id": "525d95b7-bc6e-4f52-aef2-335d731fcdce",
   "metadata": {},
   "outputs": [],
   "source": [
    "# 將數據轉換為 xts 時間序列對象 (rmgarch 需要)\n",
    "# 報酬率數據\n",
    "reserch_table$date <- as.Date(as.character(reserch_table$date), format = \"%Y%m%d\")\n",
    "returns_xts <- xts(reserch_table[, c(\"spot_return\", \"futures_return\")], order.by = reserch_table$date)"
   ]
  },
  {
   "cell_type": "code",
   "execution_count": 6,
   "id": "d4be338d-5b19-4eef-9223-d4117dfdadde",
   "metadata": {},
   "outputs": [],
   "source": [
    "# 外生變數矩陣 (用於波動率模型)\n",
    "# 論文 (5) 和 (6) 式: h_SS,t = ... + δ_S,F * ε_F,t-1^2 + δ_DS,F * (D_t * ε_F,t-1^2)\n",
    "#                      h_FF,t = ... + δ_F,S * ε_S,t-1^2 + δ_DF,S * (D_t * ε_S,t-1^2)\n",
    "# 這裡需要創建滯後的殘差平方項和它們與D的交互項\n",
    "# 這一步比較複雜，因為 ε_F,t-1^2 和 ε_S,t-1^2 是模型內生的。\n",
    "# 一種簡化的方法是，如果我們想讓 D 直接影響波動率水平，而不是通過與殘差的交互，\n",
    "# 可以將 D_HighAttention 作為外生變數。\n",
    "# 如果要嚴格複製論文，需要更複雜的設定，可能涉及到兩步法或自定義概似函數。\n",
    "\n",
    "\n",
    "# 簡化版：假設 D_HighAttention 直接影響波動率 (作為 variance.targeting 的外生變數之一)\n",
    "# 注意：rmgarch 中將外生變數直接加入 GARCH 項的交互作用比較困難，\n",
    "# 通常外生變數加入到 variance equation (variance.regressors) 是線性的。\n",
    "# 論文中的交互項 δ_DS,F * (D_t * ε_F,t-1^2) 形式更為複雜。\n",
    "\n",
    "# 我們先創建 D_HighAttention 的 xts 對象\n",
    "# 確保外生變數的日期與報酬率對齊\n",
    "external_D_xts <- xts(reserch_table$SVI_D3, order.by = reserch_table$date)\n",
    "colnames(external_D_xts) <- \"D_High\""
   ]
  },
  {
   "cell_type": "code",
   "execution_count": 7,
   "id": "13680757-d515-4609-8f40-0f80b9d1f938",
   "metadata": {},
   "outputs": [],
   "source": [
    "# 為了模擬論文中對方滯後殘差平方的影響 (例如 δ_S,F * ε_F,t-1^2)，\n",
    "# 這在標準的 rmgarch 中直接設定比較困難，因為 ε_F,t-1^2 是模型的一部分。\n",
    "# 通常這種跨變數的 GARCH 效應 (BEKK 模型的一種特例) 在 DCC 框架下不常見。\n",
    "# 論文的模型結構非常特定。\n",
    "\n",
    "# 妥協方案：我們先專注於不對稱性和 D 直接影響波動率。\n",
    "# 如果要包含對方滯後殘差平方項，可能需要考慮更複雜的 BEKK 模型或自定義估計。\n",
    "\n",
    "\n",
    "# --- 3. 定義單變量 GARCH 模型設定 ---\n",
    "# 論文中 h_SS,t 包含標準 GARCH 項, 不對稱項 (ε_S,t-1^2 * I_S,t-1),\n",
    "# 以及對方市場的波動影響和注意力交互項。\n",
    "# 我們選用 gjrGARCH (對應 GJR-GARCH) 來捕捉不對稱性。\n",
    "# model = \"sGARCH\" (標準 GARCH) 或 \"gjrGARCH\" (不對稱 GARCH)\n",
    "# garchOrder = c(1,1) (p=1, q=1)\n",
    "\n",
    "# 為 SR 設定單變量模型\n",
    "# variance.model = list(model = \"gjrGARCH\", garchOrder = c(1,1),\n",
    "#                       external.regressors = matrix(external_D_xts))\n",
    "# 上述 external.regressors 會將 D_High 加入到波動率方程，但不是論文那種交互形式。\n",
    "\n",
    "# 一個更接近論文的方法是，如果我們將 D_HighAttention 視為一個會改變 GARCH 參數的狀態。\n",
    "# 但 rmgarch 不直接支持這種狀態轉換的 GARCH 參數。\n",
    "\n",
    "# 讓我們嘗試將 D 作為一個外生回歸項加入到波動率方程中 (線性影響)\n",
    "# 這與論文中的乘法交互項 (D * ε^2) 不同，但這是 rmgarch 較容易實現的。\n",
    "uspec_sr <- ugarchspec(\n",
    "  variance.model = list(model = \"gjrGARCH\", # 包含不對稱項\n",
    "                        garchOrder = c(1, 1),\n",
    "                        external.regressors = matrix(external_D_xts) # D 作為外生變數影響波動率\n",
    "                        ),\n",
    "  mean.model = list(armaOrder = c(0, 0), include.mean = TRUE), # 假設 ARMA(0,0) 均值\n",
    "  distribution.model = \"norm\" # 或 \"std\" (t分佈), \"ged\"\n",
    ")\n",
    "\n",
    "uspec_fr <- ugarchspec(\n",
    "  variance.model = list(model = \"gjrGARCH\",\n",
    "                        garchOrder = c(1, 1),\n",
    "                        external.regressors = matrix(external_D_xts)\n",
    "                        ),\n",
    "  mean.model = list(armaOrder = c(0, 0), include.mean = TRUE),\n",
    "  distribution.model = \"norm\"\n",
    ")"
   ]
  },
  {
   "cell_type": "code",
   "execution_count": 8,
   "id": "5c5085c5-f4de-4546-9ca5-31e3a469553d",
   "metadata": {},
   "outputs": [],
   "source": [
    "# 將單變量設定組合成多變量設定\n",
    "# 由於我們有兩隻股票 SR 和 FR\n",
    "# 這裡假設對 SR 和 FR 使用相同的單變量模型結構 (但參數會分開估計)\n",
    "# 如果要為每個序列用不同的外生變數，external.regressors 可以是一個列表\n",
    "# 例如： external.regressors = list(matrix(D_for_SR), matrix(D_for_FR))\n",
    "# 在這個例子中，我們假設 D_HighAttention 同時影響 SR 和 FR 的波動率\n",
    "# 如果要實現論文中 h_SS,t 受 D*ε_F^2 影響，h_FF,t 受 D*ε_S^2 影響，\n",
    "# 這需要更複雜的 external.regressors 結構，可能需要創建這些交互項作為新的外生變數列。\n",
    "# 這一步通常是最 tricky 的，因為 ε 是模型估計出來的。\n",
    "\n",
    "# 創建一個包含兩個單變量模型的列表 (如果模型結構相同)\n",
    "# 或者分別創建 uspec_SR 和 uspec_FR\n",
    "mspec <- multispec(replicate(2, uspec_sr)) # 假設 SR 和 FR 用相同的單變量模型結構"
   ]
  },
  {
   "cell_type": "markdown",
   "id": "59363418-1225-44ca-8592-31d3c17a1a54",
   "metadata": {},
   "source": [
    "# --- 4. 定義多變量 DCC 模型設定 ---"
   ]
  },
  {
   "cell_type": "code",
   "execution_count": 10,
   "id": "af14be9e-3e01-4330-b705-edf3a62843f1",
   "metadata": {},
   "outputs": [],
   "source": [
    "# model = \"DCC\" 或 \"aDCC\" (不對稱 DCC)\n",
    "# dccOrder = c(1,1)\n",
    "# distribution = \"mvnorm\" (多元常態) 或 \"mvt\" (多元t)\n",
    "\n",
    "dcc_spec <- dccspec(\n",
    "  uspec = mspec, # 使用上面定義的單變量模型\n",
    "  dccOrder = c(1, 1),\n",
    "  distribution = \"mvnorm\", # 多元常態分佈\n",
    "  model = \"DCC\" # 標準 DCC，如果需要不對稱 DCC，則用 \"aDCC\"\n",
    "                # 論文中的不對稱性主要體現在單變量波動率方程中\n",
    ")"
   ]
  },
  {
   "cell_type": "markdown",
   "id": "f3214cfe-76f0-4e95-9be2-6313ba8b9ada",
   "metadata": {},
   "source": [
    "# --- 5. 組合模型設定並進行估計 ---"
   ]
  },
  {
   "cell_type": "code",
   "execution_count": 11,
   "id": "b0095164-f84b-4558-9544-0917799693d6",
   "metadata": {},
   "outputs": [
    {
     "name": "stdout",
     "output_type": "stream",
     "text": [
      "[1] \"Starting DCC-GARCH model estimation...\"\n",
      "\n",
      "Iter: 1 fn: 337.1168\t Pars:   0.194302180632  0.082154160273  0.000000122657  0.999999974079 -0.057271432213  0.000000008359\n",
      "Iter: 2 fn: 337.1168\t Pars:   0.194300918142  0.082154098366  0.000000100359  0.999999980926 -0.057271419114  0.000000007632\n",
      "solnp--> Completed in 2 iterations\n",
      "\n",
      "Iter: 1 fn: 345.3660\t Pars:   0.216033797493  0.110838245906  0.000000015495  0.999999989442 -0.070749686626  0.000000009617\n",
      "Iter: 2 fn: 345.3660\t Pars:   0.216033958322  0.110838260722  0.000000014799  0.999999989797 -0.070749685210  0.000000009599\n",
      "solnp--> Completed in 2 iterations\n",
      "\n",
      "Iter: 1 fn: -17.9191\t Pars:  0.0000000001955 0.9084691818434\n",
      "Iter: 2 fn: -17.9191\t Pars:  0.0000000001155 0.9084562124493\n",
      "solnp--> Completed in 2 iterations\n",
      "\n",
      "*---------------------------------*\n",
      "*          DCC GARCH Fit          *\n",
      "*---------------------------------*\n",
      "\n",
      "Distribution         :  mvnorm\n",
      "Model                :  DCC(1,1)\n",
      "No. Parameters       :  15\n",
      "[VAR GARCH DCC UncQ] : [0+12+2+1]\n",
      "No. Series           :  2\n",
      "No. Obs.             :  169\n",
      "Log-Likelihood       :  -489.4702\n",
      "Av.Log-Likelihood    :  -2.9 \n",
      "\n",
      "Optimal Parameters\n",
      "-----------------------------------\n",
      "                         Estimate  Std. Error     t value Pr(>|t|)\n",
      "[spot_return].mu         0.194301    0.161518  1.2030e+00  0.22899\n",
      "[spot_return].omega      0.082154    0.054467  1.5083e+00  0.13147\n",
      "[spot_return].alpha1     0.000000    0.007059  1.4000e-05  0.99999\n",
      "[spot_return].beta1      1.000000    0.000000  5.2454e+06  0.00000\n",
      "[spot_return].gamma1    -0.057271    0.036006 -1.5906e+00  0.11169\n",
      "[spot_return].vxreg1     0.000000    0.057664  0.0000e+00  1.00000\n",
      "[futures_return].mu      0.216034    0.172766  1.2504e+00  0.21114\n",
      "[futures_return].omega   0.110838    0.095487  1.1608e+00  0.24573\n",
      "[futures_return].alpha1  0.000000    0.015678  1.0000e-06  1.00000\n",
      "[futures_return].beta1   1.000000    0.000000  1.2144e+08  0.00000\n",
      "[futures_return].gamma1 -0.070750    0.054098 -1.3078e+00  0.19094\n",
      "[futures_return].vxreg1  0.000000    0.012645  1.0000e-06  1.00000\n",
      "[Joint]dcca1             0.000000    0.000000  5.2100e-04  0.99958\n",
      "[Joint]dccb1             0.908456    0.142497  6.3753e+00  0.00000\n",
      "\n",
      "Information Criteria\n",
      "---------------------\n",
      "                   \n",
      "Akaike       5.9701\n",
      "Bayes        6.2479\n",
      "Shibata      5.9560\n",
      "Hannan-Quinn 6.0828\n",
      "\n",
      "\n",
      "Elapsed time : 1.276833 \n",
      "\n"
     ]
    }
   ],
   "source": [
    "# rmgarch 的估計過程通常是兩步法：\n",
    "# 1. 估計單變量 GARCH 模型\n",
    "# 2. 基於標準化殘差估計 DCC 參數\n",
    "\n",
    "# 執行 DCC-GARCH 模型估計\n",
    "# fit.control 中的 fixed.se=1 可能有助於某些情況下的收斂\n",
    "# solver = \"solnp\" 是常用的優化器\n",
    "print(\"Starting DCC-GARCH model estimation...\")\n",
    "dcc_fit <- dccfit(\n",
    "  spec = dcc_spec,\n",
    "  data = returns_xts,\n",
    "  solver = \"solnp\", # 或者 \"nlminb\", \"gosolnp\"\n",
    "  solver.control = list(trace = 1) # 顯示優化過程\n",
    "  # fit.control = list(eval.se = TRUE) # 計算標準誤\n",
    ")\n",
    "\n",
    "# --- 6. 查看和解釋結果 ---\n",
    "print(dcc_fit)"
   ]
  },
  {
   "cell_type": "code",
   "execution_count": 26,
   "id": "bee4723b-dd04-40e4-9dc8-383a748f8726",
   "metadata": {},
   "outputs": [
    {
     "data": {
      "text/html": [
       "<style>\n",
       ".dl-inline {width: auto; margin:0; padding: 0}\n",
       ".dl-inline>dt, .dl-inline>dd {float: none; width: auto; display: inline-block}\n",
       ".dl-inline>dt::after {content: \":\\0020\"; padding-right: .5ex}\n",
       ".dl-inline>dt:not(:first-of-type) {padding-left: .5ex}\n",
       "</style><dl class=dl-inline><dt>[spot_return].mu</dt><dd>0.194300918142472</dd><dt>[spot_return].omega</dt><dd>0.0821540983657875</dd><dt>[spot_return].alpha1</dt><dd>1.00359130788464e-07</dd><dt>[spot_return].beta1</dt><dd>0.999999980925693</dd><dt>[spot_return].gamma1</dt><dd>-0.0572714191139924</dd><dt>[spot_return].vxreg1</dt><dd>7.63219740365034e-09</dd><dt>[futures_return].mu</dt><dd>0.216033958321586</dd><dt>[futures_return].omega</dt><dd>0.110838260722152</dd><dt>[futures_return].alpha1</dt><dd>1.47985425728247e-08</dd><dt>[futures_return].beta1</dt><dd>0.99999998979686</dd><dt>[futures_return].gamma1</dt><dd>-0.0707496852103342</dd><dt>[futures_return].vxreg1</dt><dd>9.59881318588046e-09</dd><dt>[Joint]dcca1</dt><dd>1.15536698505347e-10</dd><dt>[Joint]dccb1</dt><dd>0.908456212449255</dd></dl>\n"
      ],
      "text/latex": [
       "\\begin{description*}\n",
       "\\item[\\{{[}\\}spot\\textbackslash{}\\_return\\{{]}\\}.mu] 0.194300918142472\n",
       "\\item[\\{{[}\\}spot\\textbackslash{}\\_return\\{{]}\\}.omega] 0.0821540983657875\n",
       "\\item[\\{{[}\\}spot\\textbackslash{}\\_return\\{{]}\\}.alpha1] 1.00359130788464e-07\n",
       "\\item[\\{{[}\\}spot\\textbackslash{}\\_return\\{{]}\\}.beta1] 0.999999980925693\n",
       "\\item[\\{{[}\\}spot\\textbackslash{}\\_return\\{{]}\\}.gamma1] -0.0572714191139924\n",
       "\\item[\\{{[}\\}spot\\textbackslash{}\\_return\\{{]}\\}.vxreg1] 7.63219740365034e-09\n",
       "\\item[\\{{[}\\}futures\\textbackslash{}\\_return\\{{]}\\}.mu] 0.216033958321586\n",
       "\\item[\\{{[}\\}futures\\textbackslash{}\\_return\\{{]}\\}.omega] 0.110838260722152\n",
       "\\item[\\{{[}\\}futures\\textbackslash{}\\_return\\{{]}\\}.alpha1] 1.47985425728247e-08\n",
       "\\item[\\{{[}\\}futures\\textbackslash{}\\_return\\{{]}\\}.beta1] 0.99999998979686\n",
       "\\item[\\{{[}\\}futures\\textbackslash{}\\_return\\{{]}\\}.gamma1] -0.0707496852103342\n",
       "\\item[\\{{[}\\}futures\\textbackslash{}\\_return\\{{]}\\}.vxreg1] 9.59881318588046e-09\n",
       "\\item[\\{{[}\\}Joint\\{{]}\\}dcca1] 1.15536698505347e-10\n",
       "\\item[\\{{[}\\}Joint\\{{]}\\}dccb1] 0.908456212449255\n",
       "\\end{description*}\n"
      ],
      "text/markdown": [
       "[spot_return].mu\n",
       ":   0.194300918142472[spot_return].omega\n",
       ":   0.0821540983657875[spot_return].alpha1\n",
       ":   1.00359130788464e-07[spot_return].beta1\n",
       ":   0.999999980925693[spot_return].gamma1\n",
       ":   -0.0572714191139924[spot_return].vxreg1\n",
       ":   7.63219740365034e-09[futures_return].mu\n",
       ":   0.216033958321586[futures_return].omega\n",
       ":   0.110838260722152[futures_return].alpha1\n",
       ":   1.47985425728247e-08[futures_return].beta1\n",
       ":   0.99999998979686[futures_return].gamma1\n",
       ":   -0.0707496852103342[futures_return].vxreg1\n",
       ":   9.59881318588046e-09[Joint]dcca1\n",
       ":   1.15536698505347e-10[Joint]dccb1\n",
       ":   0.908456212449255\n",
       "\n"
      ],
      "text/plain": [
       "       [spot_return].mu     [spot_return].omega    [spot_return].alpha1 \n",
       "           1.943009e-01            8.215410e-02            1.003591e-07 \n",
       "    [spot_return].beta1    [spot_return].gamma1    [spot_return].vxreg1 \n",
       "           1.000000e+00           -5.727142e-02            7.632197e-09 \n",
       "    [futures_return].mu  [futures_return].omega [futures_return].alpha1 \n",
       "           2.160340e-01            1.108383e-01            1.479854e-08 \n",
       " [futures_return].beta1 [futures_return].gamma1 [futures_return].vxreg1 \n",
       "           1.000000e+00           -7.074969e-02            9.598813e-09 \n",
       "           [Joint]dcca1            [Joint]dccb1 \n",
       "           1.155367e-10            9.084562e-01 "
      ]
     },
     "metadata": {},
     "output_type": "display_data"
    },
    {
     "data": {
      "image/png": "[encoded data removed]",
      "text/plain": [
       "Plot with title \"DCC Conditional Correlation\""
      ]
     },
     "metadata": {
      "image/png": {
       "height": 420,
       "width": 420
      }
     },
     "output_type": "display_data"
    }
   ],
   "source": [
    "# 查看係數\n",
    "coef(dcc_fit)\n",
    "\n",
    "# 查看條件共變異數和相關性\n",
    "# rcov(dcc_fit) # 條件共變異數矩陣序列\n",
    "# rcor(dcc_fit) # 條件相關性矩陣序列\n",
    "\n",
    "# 繪製條件相關性\n",
    "plot(dcc_fit, which = 4) # 繪製動態條件相關性\n",
    "\n",
    "# 模型的概似值\n",
    "# likelihood(dcc_fit)"
   ]
  },
  {
   "cell_type": "code",
   "execution_count": null,
   "id": "b9a3a2aa-5310-4285-99d7-1184ef5374e3",
   "metadata": {},
   "outputs": [],
   "source": []
  }
 ],
 "metadata": {
  "kernelspec": {
   "display_name": "R",
   "language": "R",
   "name": "ir"
  },
  "language_info": {
   "codemirror_mode": "r",
   "file_extension": ".r",
   "mimetype": "text/x-r-source",
   "name": "R",
   "pygments_lexer": "r",
   "version": "4.4.3"
  }
 },
 "nbformat": 4,
 "nbformat_minor": 5
}
